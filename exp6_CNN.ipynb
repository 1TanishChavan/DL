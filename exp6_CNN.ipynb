{
 "cells": [
  {
   "cell_type": "code",
   "execution_count": null,
   "metadata": {
    "vscode": {
     "languageId": "plaintext"
    }
   },
   "outputs": [],
   "source": [
    "# prompt: cnn model for digit recognition using mnist dataset\n",
    "\n",
    "import numpy as np\n",
    "import tensorflow as tf\n",
    "from tensorflow.keras.models import Sequential\n",
    "from tensorflow.keras.layers import Conv2D, MaxPooling2D, Flatten, Dense\n",
    "\n",
    "# Load MNIST dataset\n",
    "(x_train, y_train), (x_test, y_test) = tf.keras.datasets.mnist.load_data()\n",
    "\n",
    "# Preprocess the data\n",
    "x_train = x_train.astype('float32') / 255.0\n",
    "x_test = x_test.astype('float32') / 255.0\n",
    "x_train = np.expand_dims(x_train, axis=-1)\n",
    "x_test = np.expand_dims(x_test, axis=-1)\n",
    "y_train = tf.keras.utils.to_categorical(y_train, num_classes=10)\n",
    "y_test = tf.keras.utils.to_categorical(y_test, num_classes=10)\n",
    "\n",
    "# Define the CNN model\n",
    "model = Sequential()\n",
    "model.add(Conv2D(32, (3, 3), activation='relu', input_shape=(28, 28, 1)))\n",
    "model.add(MaxPooling2D((2, 2)))\n",
    "model.add(Conv2D(64, (3, 3), activation='relu'))\n",
    "model.add(MaxPooling2D((2, 2)))\n",
    "model.add(Flatten())\n",
    "model.add(Dense(10, activation='softmax'))\n",
    "\n",
    "# Compile the model\n",
    "model.compile(optimizer='adam',\n",
    "              loss='categorical_crossentropy',\n",
    "              metrics=['accuracy'])\n",
    "\n",
    "# Train the model\n",
    "model.fit(x_train, y_train, epochs=10, batch_size=32, validation_data=(x_test, y_test))\n",
    "\n",
    "# Evaluate the model\n",
    "loss, accuracy = model.evaluate(x_test, y_test)\n",
    "print('Test accuracy:', accuracy)\n"
   ]
  },
  {
   "cell_type": "code",
   "execution_count": null,
   "metadata": {
    "vscode": {
     "languageId": "plaintext"
    }
   },
   "outputs": [],
   "source": [
    "**Practical: Design and Implement a CNN Model for Digit Recognition Application**\n",
    "\n",
    "**Introduction**  \n",
    "A Convolutional Neural Network (CNN) is a deep learning model designed for tasks such as image classification, object detection, and recognition. In this practical, we will design a CNN model for digit recognition using the MNIST dataset, which contains 60,000 training and 10,000 test images of handwritten digits (0-9). Each image in the dataset is a grayscale 28x28 pixel image, and the task is to correctly classify these digits using a CNN model.\n",
    "\n",
    "**Convolutional Neural Networks (CNNs)**  \n",
    "CNNs are a specialized type of neural network primarily used for image-based tasks due to their ability to automatically learn hierarchical spatial features. They consist of multiple layers:\n",
    "\n",
    "1. **Convolutional Layer (Conv2D)**:  \n",
    "   The convolutional layer applies several filters (kernels) to the input image, generating feature maps. These filters are small matrices that move across the image, detecting patterns like edges, corners, or textures.\n",
    "   \n",
    "   Formula for convolution:  \n",
    "   \\[\n",
    "   \\text{Output} = (\\text{Input} \\ast \\text{Filter}) + \\text{Bias}\n",
    "   \\]\n",
    "   \n",
    "2. **Activation Function (ReLU)**:  \n",
    "   ReLU (Rectified Linear Unit) is applied after each convolution to introduce non-linearity. It replaces negative values with zero, enhancing the model’s ability to learn complex patterns.\n",
    "   \n",
    "3. **Pooling Layer (MaxPooling2D)**:  \n",
    "   Pooling reduces the spatial dimensions of the feature maps, preserving essential information while reducing computation. Max pooling selects the maximum value from a 2x2 region, downsampling the feature maps.\n",
    "   \n",
    "4. **Fully Connected Layer (Dense)**:  \n",
    "   After the feature extraction, the flattened output is passed through fully connected layers for classification. The final layer uses a softmax activation function, which outputs a probability distribution over the 10 possible digits.\n",
    "\n",
    "**CNN Architecture**  \n",
    "In this practical, we design the CNN with the following layers:\n",
    "\n",
    "- **Input**: 28x28x1 grayscale images (1 channel for grayscale).\n",
    "- **Convolutional Layer 1**: 32 filters of size 3x3, ReLU activation.\n",
    "- **Max Pooling Layer 1**: 2x2 pooling.\n",
    "- **Convolutional Layer 2**: 64 filters of size 3x3, ReLU activation.\n",
    "- **Max Pooling Layer 2**: 2x2 pooling.\n",
    "- **Flatten Layer**: Converts the 2D feature maps into a 1D vector.\n",
    "- **Fully Connected (Dense) Layer**: 10 neurons with softmax activation for multi-class classification.\n",
    "\n",
    "![CNN Architecture for Digit Recognition](https://raw.githubusercontent.com/OpenAI/practice-images/main/cnn_mnist_example.png)\n",
    "\n",
    "**Implementation Steps**\n",
    "1. **Preprocessing**: The input images are normalized by scaling pixel values between 0 and 1 to accelerate learning. They are reshaped into 28x28x1 to fit the CNN's input structure.\n",
    "   \n",
    "2. **Model Building**: We use a sequential model to stack the layers in order. The first two layers (Conv2D + MaxPooling2D) extract spatial features, while the dense layer at the end classifies the output into one of the 10 digit classes.\n",
    "\n",
    "3. **Training**: The model is compiled using the Adam optimizer and categorical crossentropy loss function. Training is performed over multiple epochs, with the model learning to minimize classification errors.\n",
    "\n",
    "4. **Evaluation**: After training, the model is evaluated on the test data to determine its accuracy. The trained CNN is expected to achieve over 98% accuracy on the MNIST dataset.\n",
    "\n",
    "**Conclusion**  \n",
    "CNNs are a powerful tool for image classification tasks like digit recognition. By leveraging convolutional and pooling layers, the CNN effectively captures important features, leading to accurate digit classification. This approach can be extended to various other image recognition tasks, highlighting the flexibility and strength of CNNs in deep learning."
   ]
  },
  {
   "cell_type": "markdown",
   "metadata": {},
   "source": [
    "https://chatgpt.com/share/6715be6a-afc4-800d-8434-f83bacbb5acd"
   ]
  }
 ],
 "metadata": {
  "language_info": {
   "name": "python"
  }
 },
 "nbformat": 4,
 "nbformat_minor": 2
}
