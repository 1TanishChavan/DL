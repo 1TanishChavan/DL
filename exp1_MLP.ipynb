{
 "cells": [
  {
   "cell_type": "code",
   "execution_count": null,
   "metadata": {
    "vscode": {
     "languageId": "plaintext"
    }
   },
   "outputs": [],
   "source": [
    "import numpy as np\n",
    "\n",
    "# Define the sigmoid activation function\n",
    "def sigmoid(x):\n",
    "  return 1 / (1 + np.exp(-x))\n",
    "\n",
    "# Define the derivative of the sigmoid function\n",
    "def sigmoid_derivative(x):\n",
    "  return x * (1 - x)\n",
    "\n",
    "# Input dataset\n",
    "X = np.array([[0, 0], [0, 1], [1, 0], [1, 1]])\n",
    "\n",
    "# Output dataset\n",
    "y = np.array([[0], [1], [1], [0]])\n",
    "\n",
    "# Define the number of neurons in each layer\n",
    "input_layer_neurons = 2\n",
    "hidden_layer_neurons = 2\n",
    "output_layer_neurons = 1\n",
    "\n",
    "# Initialize weights and biases with random values\n",
    "hidden_weights = np.random.uniform(size=(input_layer_neurons, hidden_layer_neurons))\n",
    "hidden_bias = np.random.uniform(size=(1, hidden_layer_neurons))\n",
    "output_weights = np.random.uniform(size=(hidden_layer_neurons, output_layer_neurons))\n",
    "output_bias = np.random.uniform(size=(1, output_layer_neurons))\n",
    "\n",
    "# Training parameters\n",
    "learning_rate = 0.1\n",
    "epochs = 10000\n",
    "\n",
    "# Training the model\n",
    "for epoch in range(epochs):\n",
    "  # Forward propagation\n",
    "  hidden_layer_activation = np.dot(X, hidden_weights) + hidden_bias\n",
    "  hidden_layer_output = sigmoid(hidden_layer_activation)\n",
    "  output_layer_activation = np.dot(hidden_layer_output, output_weights) + output_bias\n",
    "  predicted_output = sigmoid(output_layer_activation)\n",
    "\n",
    "  # Backpropagation\n",
    "  error = y - predicted_output\n",
    "  d_predicted_output = error * sigmoid_derivative(predicted_output)\n",
    "  error_hidden_layer = d_predicted_output.dot(output_weights.T)\n",
    "  d_hidden_layer = error_hidden_layer * sigmoid_derivative(hidden_layer_output)\n",
    "\n",
    "  # Update weights and biases\n",
    "  output_weights += hidden_layer_output.T.dot(d_predicted_output) * learning_rate\n",
    "  output_bias += np.sum(d_predicted_output, axis=0, keepdims=True) * learning_rate\n",
    "  hidden_weights += X.T.dot(d_hidden_layer) * learning_rate\n",
    "  hidden_bias += np.sum(d_hidden_layer, axis=0, keepdims=True) * learning_rate\n",
    "\n",
    "# Test the model\n",
    "print(\"Input: \\n\" + str(X))\n",
    "print(\"Actual Output: \\n\" + str(y))\n",
    "print(\"Predicted Output: \\n\", predicted_output)\n"
   ]
  }
 ],
 "metadata": {
  "language_info": {
   "name": "python"
  }
 },
 "nbformat": 4,
 "nbformat_minor": 2
}
