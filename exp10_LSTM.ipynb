{
 "cells": [
  {
   "cell_type": "code",
   "execution_count": null,
   "metadata": {
    "vscode": {
     "languageId": "plaintext"
    }
   },
   "outputs": [],
   "source": [
    "import numpy as np\n",
    "import matplotlib.pyplot as plt\n",
    "from tensorflow.keras.models import Sequential\n",
    "from tensorflow.keras.layers import LSTM, Dense\n",
    "\n",
    "# Generate some sample time series data\n",
    "def create_time_series_data(length, trend=0.1, seasonality=0.5, noise=0.1):\n",
    "  time_series = []\n",
    "  for i in range(length):\n",
    "    value = trend * i + seasonality * np.sin(i) + np.random.randn() * noise\n",
    "    time_series.append(value)\n",
    "  return np.array(time_series)\n",
    "\n",
    "# Create training data\n",
    "time_series_data = create_time_series_data(100)\n",
    "\n",
    "# Prepare data for LSTM (look back one time step)\n",
    "def create_dataset(dataset, look_back=1):\n",
    "  X, Y = [], []\n",
    "  for i in range(len(dataset) - look_back - 1):\n",
    "    a = dataset[i:(i + look_back), 0]\n",
    "    X.append(a)\n",
    "    Y.append(dataset[i + look_back, 0])\n",
    "  return np.array(X), np.array(Y)\n",
    "\n",
    "look_back = 1\n",
    "X, Y = create_dataset(time_series_data.reshape(-1, 1), look_back)\n",
    "\n",
    "# Reshape input to be [samples, time steps, features]\n",
    "X = np.reshape(X, (X.shape[0], 1, X.shape[1]))\n",
    "\n",
    "# Create and train the LSTM model\n",
    "model = Sequential()\n",
    "model.add(LSTM(4, input_shape=(1, look_back)))\n",
    "model.add(Dense(1))\n",
    "model.compile(loss='mean_squared_error', optimizer='adam')\n",
    "model.fit(X, Y, epochs=100, batch_size=1, verbose=2)\n",
    "\n",
    "# Make predictions\n",
    "trainPredict = model.predict(X)\n",
    "\n",
    "# Plot the results\n",
    "plt.plot(time_series_data, label='Original')\n",
    "plt.plot(np.arange(look_back, len(trainPredict) + look_back), trainPredict, label='Predictions')\n",
    "plt.legend()\n",
    "plt.show()\n"
   ]
  }
 ],
 "metadata": {
  "language_info": {
   "name": "python"
  }
 },
 "nbformat": 4,
 "nbformat_minor": 2
}
